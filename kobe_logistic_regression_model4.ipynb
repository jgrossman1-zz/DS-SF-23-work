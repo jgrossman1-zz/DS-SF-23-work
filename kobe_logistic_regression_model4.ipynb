{
 "cells": [
  {
   "cell_type": "code",
   "execution_count": 40,
   "metadata": {
    "collapsed": false
   },
   "outputs": [],
   "source": [
    "import os\n",
    "import numpy as np\n",
    "import pandas as pd\n",
    "import matplotlib.pyplot as plt\n",
    "from sklearn import linear_model, cross_validation\n",
    "from sklearn import linear_model, metrics\n",
    "\n",
    "pd.set_option('display.max_rows', 30)\n",
    "pd.set_option('display.notebook_repr_html', True)\n",
    "pd.set_option('display.max_columns', 30)\n",
    "\n",
    "%matplotlib inline\n",
    "plt.style.use('ggplot')"
   ]
  },
  {
   "cell_type": "code",
   "execution_count": 41,
   "metadata": {
    "collapsed": true
   },
   "outputs": [],
   "source": [
    "#df = pd.read_csv('/Users/joshuagrossman/Desktop/DS-SF-23 Final Project/Kobe/kobe_clean_forest.csv')\n",
    "df = pd.read_csv('/Users/joshuagrossman/DS-SF-23-work/kobe_clean_forest.csv')"
   ]
  },
  {
   "cell_type": "code",
   "execution_count": 42,
   "metadata": {
    "collapsed": false
   },
   "outputs": [
    {
     "data": {
      "text/html": [
       "<div>\n",
       "<table border=\"1\" class=\"dataframe\">\n",
       "  <thead>\n",
       "    <tr style=\"text-align: right;\">\n",
       "      <th></th>\n",
       "      <th>shot_id</th>\n",
       "      <th>shot_made_flag</th>\n",
       "      <th>seconds_from_period_end</th>\n",
       "      <th>loc_x</th>\n",
       "      <th>loc_y</th>\n",
       "      <th>shot_distance</th>\n",
       "      <th>action_type#Jump Shot</th>\n",
       "      <th>home_away</th>\n",
       "      <th>action_type#Layup Shot</th>\n",
       "      <th>period#3</th>\n",
       "      <th>period#2</th>\n",
       "      <th>period#1</th>\n",
       "      <th>period#4</th>\n",
       "      <th>shot_zone_range#Less Than 8 ft.</th>\n",
       "      <th>game_month#1</th>\n",
       "      <th>game_month#3</th>\n",
       "      <th>game_month#2</th>\n",
       "      <th>game_month#12</th>\n",
       "      <th>game_month#4</th>\n",
       "      <th>game_month#11</th>\n",
       "      <th>playoffs</th>\n",
       "      <th>action_type#Running Jump Shot</th>\n",
       "    </tr>\n",
       "  </thead>\n",
       "  <tbody>\n",
       "    <tr>\n",
       "      <th>0</th>\n",
       "      <td>1</td>\n",
       "      <td>NaN</td>\n",
       "      <td>0.878151</td>\n",
       "      <td>0.837349</td>\n",
       "      <td>0.138922</td>\n",
       "      <td>0.227848</td>\n",
       "      <td>1.0</td>\n",
       "      <td>0</td>\n",
       "      <td>0.0</td>\n",
       "      <td>0.0</td>\n",
       "      <td>0.0</td>\n",
       "      <td>1.0</td>\n",
       "      <td>0.0</td>\n",
       "      <td>0.0</td>\n",
       "      <td>0.0</td>\n",
       "      <td>0.0</td>\n",
       "      <td>0.0</td>\n",
       "      <td>0.0</td>\n",
       "      <td>0.0</td>\n",
       "      <td>0.0</td>\n",
       "      <td>0</td>\n",
       "      <td>0.0</td>\n",
       "    </tr>\n",
       "    <tr>\n",
       "      <th>1</th>\n",
       "      <td>2</td>\n",
       "      <td>0.0</td>\n",
       "      <td>0.871148</td>\n",
       "      <td>0.186747</td>\n",
       "      <td>0.052695</td>\n",
       "      <td>0.189873</td>\n",
       "      <td>1.0</td>\n",
       "      <td>0</td>\n",
       "      <td>0.0</td>\n",
       "      <td>0.0</td>\n",
       "      <td>0.0</td>\n",
       "      <td>1.0</td>\n",
       "      <td>0.0</td>\n",
       "      <td>0.0</td>\n",
       "      <td>0.0</td>\n",
       "      <td>0.0</td>\n",
       "      <td>0.0</td>\n",
       "      <td>0.0</td>\n",
       "      <td>0.0</td>\n",
       "      <td>0.0</td>\n",
       "      <td>0</td>\n",
       "      <td>0.0</td>\n",
       "    </tr>\n",
       "    <tr>\n",
       "      <th>2</th>\n",
       "      <td>3</td>\n",
       "      <td>1.0</td>\n",
       "      <td>0.651261</td>\n",
       "      <td>0.299197</td>\n",
       "      <td>0.214371</td>\n",
       "      <td>0.202532</td>\n",
       "      <td>1.0</td>\n",
       "      <td>0</td>\n",
       "      <td>0.0</td>\n",
       "      <td>0.0</td>\n",
       "      <td>0.0</td>\n",
       "      <td>1.0</td>\n",
       "      <td>0.0</td>\n",
       "      <td>0.0</td>\n",
       "      <td>0.0</td>\n",
       "      <td>0.0</td>\n",
       "      <td>0.0</td>\n",
       "      <td>0.0</td>\n",
       "      <td>0.0</td>\n",
       "      <td>0.0</td>\n",
       "      <td>0</td>\n",
       "      <td>0.0</td>\n",
       "    </tr>\n",
       "    <tr>\n",
       "      <th>3</th>\n",
       "      <td>4</td>\n",
       "      <td>0.0</td>\n",
       "      <td>0.577031</td>\n",
       "      <td>0.779116</td>\n",
       "      <td>0.262275</td>\n",
       "      <td>0.278481</td>\n",
       "      <td>1.0</td>\n",
       "      <td>0</td>\n",
       "      <td>0.0</td>\n",
       "      <td>0.0</td>\n",
       "      <td>0.0</td>\n",
       "      <td>1.0</td>\n",
       "      <td>0.0</td>\n",
       "      <td>0.0</td>\n",
       "      <td>0.0</td>\n",
       "      <td>0.0</td>\n",
       "      <td>0.0</td>\n",
       "      <td>0.0</td>\n",
       "      <td>0.0</td>\n",
       "      <td>0.0</td>\n",
       "      <td>0</td>\n",
       "      <td>0.0</td>\n",
       "    </tr>\n",
       "    <tr>\n",
       "      <th>4</th>\n",
       "      <td>5</td>\n",
       "      <td>1.0</td>\n",
       "      <td>0.530812</td>\n",
       "      <td>0.502008</td>\n",
       "      <td>0.052695</td>\n",
       "      <td>0.000000</td>\n",
       "      <td>0.0</td>\n",
       "      <td>0</td>\n",
       "      <td>0.0</td>\n",
       "      <td>0.0</td>\n",
       "      <td>1.0</td>\n",
       "      <td>0.0</td>\n",
       "      <td>0.0</td>\n",
       "      <td>1.0</td>\n",
       "      <td>0.0</td>\n",
       "      <td>0.0</td>\n",
       "      <td>0.0</td>\n",
       "      <td>0.0</td>\n",
       "      <td>0.0</td>\n",
       "      <td>0.0</td>\n",
       "      <td>0</td>\n",
       "      <td>0.0</td>\n",
       "    </tr>\n",
       "  </tbody>\n",
       "</table>\n",
       "</div>"
      ],
      "text/plain": [
       "   shot_id  shot_made_flag  seconds_from_period_end     loc_x     loc_y  \\\n",
       "0        1             NaN                 0.878151  0.837349  0.138922   \n",
       "1        2             0.0                 0.871148  0.186747  0.052695   \n",
       "2        3             1.0                 0.651261  0.299197  0.214371   \n",
       "3        4             0.0                 0.577031  0.779116  0.262275   \n",
       "4        5             1.0                 0.530812  0.502008  0.052695   \n",
       "\n",
       "   shot_distance  action_type#Jump Shot  home_away  action_type#Layup Shot  \\\n",
       "0       0.227848                    1.0          0                     0.0   \n",
       "1       0.189873                    1.0          0                     0.0   \n",
       "2       0.202532                    1.0          0                     0.0   \n",
       "3       0.278481                    1.0          0                     0.0   \n",
       "4       0.000000                    0.0          0                     0.0   \n",
       "\n",
       "   period#3  period#2  period#1  period#4  shot_zone_range#Less Than 8 ft.  \\\n",
       "0       0.0       0.0       1.0       0.0                              0.0   \n",
       "1       0.0       0.0       1.0       0.0                              0.0   \n",
       "2       0.0       0.0       1.0       0.0                              0.0   \n",
       "3       0.0       0.0       1.0       0.0                              0.0   \n",
       "4       0.0       1.0       0.0       0.0                              1.0   \n",
       "\n",
       "   game_month#1  game_month#3  game_month#2  game_month#12  game_month#4  \\\n",
       "0           0.0           0.0           0.0            0.0           0.0   \n",
       "1           0.0           0.0           0.0            0.0           0.0   \n",
       "2           0.0           0.0           0.0            0.0           0.0   \n",
       "3           0.0           0.0           0.0            0.0           0.0   \n",
       "4           0.0           0.0           0.0            0.0           0.0   \n",
       "\n",
       "   game_month#11  playoffs  action_type#Running Jump Shot  \n",
       "0            0.0         0                            0.0  \n",
       "1            0.0         0                            0.0  \n",
       "2            0.0         0                            0.0  \n",
       "3            0.0         0                            0.0  \n",
       "4            0.0         0                            0.0  "
      ]
     },
     "execution_count": 42,
     "metadata": {},
     "output_type": "execute_result"
    }
   ],
   "source": [
    "df.head()"
   ]
  },
  {
   "cell_type": "code",
   "execution_count": 43,
   "metadata": {
    "collapsed": false
   },
   "outputs": [
    {
     "data": {
      "text/plain": [
       "(30697, 22)"
      ]
     },
     "execution_count": 43,
     "metadata": {},
     "output_type": "execute_result"
    }
   ],
   "source": [
    "df.shape"
   ]
  },
  {
   "cell_type": "code",
   "execution_count": 44,
   "metadata": {
    "collapsed": false
   },
   "outputs": [
    {
     "data": {
      "text/plain": [
       "Index([u'shot_id', u'shot_made_flag', u'seconds_from_period_end', u'loc_x',\n",
       "       u'loc_y', u'shot_distance', u'action_type#Jump Shot', u'home_away',\n",
       "       u'action_type#Layup Shot', u'period#3', u'period#2', u'period#1',\n",
       "       u'period#4', u'shot_zone_range#Less Than 8 ft.', u'game_month#1',\n",
       "       u'game_month#3', u'game_month#2', u'game_month#12', u'game_month#4',\n",
       "       u'game_month#11', u'playoffs', u'action_type#Running Jump Shot'],\n",
       "      dtype='object')"
      ]
     },
     "execution_count": 44,
     "metadata": {},
     "output_type": "execute_result"
    }
   ],
   "source": [
    "df.columns"
   ]
  },
  {
   "cell_type": "code",
   "execution_count": 45,
   "metadata": {
    "collapsed": false
   },
   "outputs": [
    {
     "data": {
      "text/plain": [
       "shot_id                            30697\n",
       "shot_made_flag                     25697\n",
       "seconds_from_period_end            30697\n",
       "loc_x                              30697\n",
       "loc_y                              30697\n",
       "shot_distance                      30697\n",
       "action_type#Jump Shot              30697\n",
       "home_away                          30697\n",
       "action_type#Layup Shot             30697\n",
       "period#3                           30697\n",
       "period#2                           30697\n",
       "period#1                           30697\n",
       "period#4                           30697\n",
       "shot_zone_range#Less Than 8 ft.    30697\n",
       "game_month#1                       30697\n",
       "game_month#3                       30697\n",
       "game_month#2                       30697\n",
       "game_month#12                      30697\n",
       "game_month#4                       30697\n",
       "game_month#11                      30697\n",
       "playoffs                           30697\n",
       "action_type#Running Jump Shot      30697\n",
       "dtype: int64"
      ]
     },
     "execution_count": 45,
     "metadata": {},
     "output_type": "execute_result"
    }
   ],
   "source": [
    "df.count()"
   ]
  },
  {
   "cell_type": "code",
   "execution_count": 46,
   "metadata": {
    "collapsed": true
   },
   "outputs": [],
   "source": [
    "#Create a new df (df2) based on the blanks in the shot_made_flag\n",
    "#This ceates a new DF of all the records where shot_made_flag is not null\n",
    "df2 = df[df.shot_made_flag.notnull()]"
   ]
  },
  {
   "cell_type": "code",
   "execution_count": 47,
   "metadata": {
    "collapsed": false
   },
   "outputs": [
    {
     "data": {
      "text/plain": [
       "shot_id                            25697\n",
       "shot_made_flag                     25697\n",
       "seconds_from_period_end            25697\n",
       "loc_x                              25697\n",
       "loc_y                              25697\n",
       "shot_distance                      25697\n",
       "action_type#Jump Shot              25697\n",
       "home_away                          25697\n",
       "action_type#Layup Shot             25697\n",
       "period#3                           25697\n",
       "period#2                           25697\n",
       "period#1                           25697\n",
       "period#4                           25697\n",
       "shot_zone_range#Less Than 8 ft.    25697\n",
       "game_month#1                       25697\n",
       "game_month#3                       25697\n",
       "game_month#2                       25697\n",
       "game_month#12                      25697\n",
       "game_month#4                       25697\n",
       "game_month#11                      25697\n",
       "playoffs                           25697\n",
       "action_type#Running Jump Shot      25697\n",
       "dtype: int64"
      ]
     },
     "execution_count": 47,
     "metadata": {},
     "output_type": "execute_result"
    }
   ],
   "source": [
    "df2.count()"
   ]
  },
  {
   "cell_type": "code",
   "execution_count": 48,
   "metadata": {
    "collapsed": false
   },
   "outputs": [
    {
     "data": {
      "text/plain": [
       "(5000, 22)"
      ]
     },
     "execution_count": 48,
     "metadata": {},
     "output_type": "execute_result"
    }
   ],
   "source": [
    "#We'll still need to reserve the 5,000 blank records to submit to Kaggle if needed\n",
    "df_testing = df[df.shot_made_flag.isnull()]\n",
    "\n",
    "df_testing.shape"
   ]
  },
  {
   "cell_type": "code",
   "execution_count": 49,
   "metadata": {
    "collapsed": false
   },
   "outputs": [
    {
     "data": {
      "text/plain": [
       "(15418, 22)"
      ]
     },
     "execution_count": 49,
     "metadata": {},
     "output_type": "execute_result"
    }
   ],
   "source": [
    "#Splitting the dataset into train and test\n",
    "#60% of the dataset to train the model; the rest to test the model\n",
    "\n",
    "train_df = df2.sample(frac = .6, random_state = 0).sort_index()\n",
    "\n",
    "train_df.shape"
   ]
  },
  {
   "cell_type": "code",
   "execution_count": 50,
   "metadata": {
    "collapsed": false
   },
   "outputs": [
    {
     "data": {
      "text/plain": [
       "(10279, 22)"
      ]
     },
     "execution_count": 50,
     "metadata": {},
     "output_type": "execute_result"
    }
   ],
   "source": [
    "test_df = df2.drop(train_df.index)\n",
    "\n",
    "test_df.shape"
   ]
  },
  {
   "cell_type": "code",
   "execution_count": 51,
   "metadata": {
    "collapsed": false
   },
   "outputs": [],
   "source": [
    "names_X = ['seconds_from_period_end', 'loc_x', 'loc_y', 'shot_distance','action_type#Jump Shot', \n",
    "           'home_away', 'action_type#Layup Shot','period#3', 'period#2', 'period#1', 'period#4',\n",
    "            'shot_zone_range#Less Than 8 ft.', 'game_month#1', 'game_month#3','game_month#2', \n",
    "           'game_month#12', 'game_month#4', 'game_month#11','playoffs', 'action_type#Running Jump Shot']\n",
    "\n",
    "#Try fewer variables:\n",
    "#names_X = ['seconds_from_period_end', 'loc_x', 'loc_y', 'shot_distance', 'action_type#Jump Shot', \n",
    "#          'action_type#Layup Shot', 'shot_zone_range#Less Than 8 ft.', 'action_type#Running Jump Shot']\n",
    "\n",
    "def X_y(df2):\n",
    "    X = df2[ names_X ]\n",
    "    y = df2.shot_made_flag\n",
    "    return X, y\n",
    "\n",
    "train_X, train_y = X_y(train_df)\n",
    "test_X, test_y = X_y(test_df)"
   ]
  },
  {
   "cell_type": "code",
   "execution_count": 52,
   "metadata": {
    "collapsed": false
   },
   "outputs": [
    {
     "name": "stdout",
     "output_type": "stream",
     "text": [
      "(15418, 20)\n",
      "(10279, 20)\n"
     ]
    }
   ],
   "source": [
    "print train_X.shape\n",
    "print test_X.shape"
   ]
  },
  {
   "cell_type": "code",
   "execution_count": 53,
   "metadata": {
    "collapsed": false
   },
   "outputs": [
    {
     "name": "stdout",
     "output_type": "stream",
     "text": [
      "(15418,)\n",
      "(10279,)\n"
     ]
    }
   ],
   "source": [
    "print train_y.shape\n",
    "print test_y.shape"
   ]
  },
  {
   "cell_type": "code",
   "execution_count": 54,
   "metadata": {
    "collapsed": false
   },
   "outputs": [
    {
     "name": "stdout",
     "output_type": "stream",
     "text": [
      "intercept    = [ 0.67527978]\n",
      "coefficients = [[ 0.18525697  0.19626993  0.34045179 -0.74328434 -1.44161639  0.0658741\n",
      "  -1.43355879 -0.02274663 -0.01235641  0.09511991 -0.10463339  0.11935883\n",
      "  -0.02957639 -0.09673209 -0.06727961 -0.07026368 -0.05249482 -0.0949537\n",
      "  -0.08395752  0.24758376]]\n"
     ]
    }
   ],
   "source": [
    "#Fit the model and print coefficients\n",
    "model = linear_model.LogisticRegression()\n",
    "model.fit(train_X, train_y)\n",
    "\n",
    "print 'intercept    =', model.intercept_\n",
    "print 'coefficients =', model.coef_"
   ]
  },
  {
   "cell_type": "code",
   "execution_count": 55,
   "metadata": {
    "collapsed": false
   },
   "outputs": [
    {
     "data": {
      "text/plain": [
       "[('seconds_from_period_end', 0.20352767200749655),\n",
       " ('loc_x', 0.21685532254982354),\n",
       " ('loc_y', 0.40558248163650279),\n",
       " ('shot_distance', -0.52445051773788509),\n",
       " ('action_type#Jump Shot', -0.76345489930109811),\n",
       " ('home_away', 0.068092236634681225),\n",
       " ('action_type#Layup Shot', -0.76154121488734439),\n",
       " ('period#3', -0.022489875083736011),\n",
       " ('period#2', -0.012280382317286342),\n",
       " ('period#1', 0.099790719235509417),\n",
       " ('period#4', -0.099345348687037038),\n",
       " ('shot_zone_range#Less Than 8 ft.', 0.12677416203319836),\n",
       " ('game_month#1', -0.029143286086096287),\n",
       " ('game_month#3', -0.092200813787865932),\n",
       " ('game_month#2', -0.065066255701900833),\n",
       " ('game_month#12', -0.067851997456584434),\n",
       " ('game_month#4', -0.051140768554104987),\n",
       " ('game_month#11', -0.090584964888268282),\n",
       " ('playoffs', -0.080529683358223192),\n",
       " ('action_type#Running Jump Shot', 0.28092664403942558)]"
      ]
     },
     "execution_count": 55,
     "metadata": {},
     "output_type": "execute_result"
    }
   ],
   "source": [
    "zip(names_X, np.exp(model.coef_[0]) - 1)"
   ]
  },
  {
   "cell_type": "code",
   "execution_count": 56,
   "metadata": {
    "collapsed": false
   },
   "outputs": [
    {
     "data": {
      "text/plain": [
       "[(0.012280382317286342, 'period#2'),\n",
       " (0.022489875083736011, 'period#3'),\n",
       " (0.029143286086096287, 'game_month#1'),\n",
       " (0.051140768554104987, 'game_month#4'),\n",
       " (0.065066255701900833, 'game_month#2'),\n",
       " (0.067851997456584434, 'game_month#12'),\n",
       " (0.068092236634681225, 'home_away'),\n",
       " (0.080529683358223192, 'playoffs'),\n",
       " (0.090584964888268282, 'game_month#11'),\n",
       " (0.092200813787865932, 'game_month#3'),\n",
       " (0.099345348687037038, 'period#4'),\n",
       " (0.099790719235509417, 'period#1'),\n",
       " (0.12677416203319836, 'shot_zone_range#Less Than 8 ft.'),\n",
       " (0.20352767200749655, 'seconds_from_period_end'),\n",
       " (0.21685532254982354, 'loc_x'),\n",
       " (0.28092664403942558, 'action_type#Running Jump Shot'),\n",
       " (0.40558248163650279, 'loc_y'),\n",
       " (0.52445051773788509, 'shot_distance'),\n",
       " (0.76154121488734439, 'action_type#Layup Shot'),\n",
       " (0.76345489930109811, 'action_type#Jump Shot')]"
      ]
     },
     "execution_count": 56,
     "metadata": {},
     "output_type": "execute_result"
    }
   ],
   "source": [
    "# sort to looks at the values; pay attention to negative coefficients!\n",
    "sorted(zip(abs(np.exp(model.coef_[0]) - 1), names_X))"
   ]
  },
  {
   "cell_type": "code",
   "execution_count": 57,
   "metadata": {
    "collapsed": false
   },
   "outputs": [
    {
     "name": "stdout",
     "output_type": "stream",
     "text": [
      "0.678859811266\n"
     ]
    }
   ],
   "source": [
    "#make predictions on the test set\n",
    "y_pred = model.predict(test_X)\n",
    "\n",
    "# compare actual response values (y_test) with predicted response values (y_pred)\n",
    "print metrics.accuracy_score(test_y, y_pred)"
   ]
  },
  {
   "cell_type": "code",
   "execution_count": 58,
   "metadata": {
    "collapsed": false
   },
   "outputs": [
    {
     "name": "stdout",
     "output_type": "stream",
     "text": [
      "training classifier score = 0.678622389415\n",
      "testing  classifier score = 0.678859811266\n"
     ]
    }
   ],
   "source": [
    "print 'training classifier score =', model.score(train_X, train_y)\n",
    "print 'testing  classifier score =', model.score(test_X, test_y)"
   ]
  },
  {
   "cell_type": "code",
   "execution_count": 59,
   "metadata": {
    "collapsed": true
   },
   "outputs": [],
   "source": [
    "#10-fold cross validation \n",
    "\n",
    "c_df = pd.DataFrame({'index': np.linspace(-10, 10, 21)})\n",
    "\n",
    "c_df['c'] = c_df['index'].apply(lambda index: 10 ** index)\n",
    "\n",
    "def optimize_c(c):\n",
    "    model = linear_model.LogisticRegression(C = c)\n",
    "    return cross_validation.cross_val_score(model, train_X, train_y, cv = 10).mean()\n",
    "\n",
    "c_df['Score'] = c_df.c.apply(optimize_c)"
   ]
  },
  {
   "cell_type": "code",
   "execution_count": 60,
   "metadata": {
    "collapsed": false
   },
   "outputs": [
    {
     "data": {
      "text/html": [
       "<div>\n",
       "<table border=\"1\" class=\"dataframe\">\n",
       "  <thead>\n",
       "    <tr style=\"text-align: right;\">\n",
       "      <th></th>\n",
       "      <th>index</th>\n",
       "      <th>c</th>\n",
       "      <th>Score</th>\n",
       "    </tr>\n",
       "  </thead>\n",
       "  <tbody>\n",
       "    <tr>\n",
       "      <th>0</th>\n",
       "      <td>-10.0</td>\n",
       "      <td>1.000000e-10</td>\n",
       "      <td>0.555390</td>\n",
       "    </tr>\n",
       "    <tr>\n",
       "      <th>1</th>\n",
       "      <td>-9.0</td>\n",
       "      <td>1.000000e-09</td>\n",
       "      <td>0.555390</td>\n",
       "    </tr>\n",
       "    <tr>\n",
       "      <th>2</th>\n",
       "      <td>-8.0</td>\n",
       "      <td>1.000000e-08</td>\n",
       "      <td>0.555390</td>\n",
       "    </tr>\n",
       "    <tr>\n",
       "      <th>3</th>\n",
       "      <td>-7.0</td>\n",
       "      <td>1.000000e-07</td>\n",
       "      <td>0.555390</td>\n",
       "    </tr>\n",
       "    <tr>\n",
       "      <th>4</th>\n",
       "      <td>-6.0</td>\n",
       "      <td>1.000000e-06</td>\n",
       "      <td>0.555390</td>\n",
       "    </tr>\n",
       "    <tr>\n",
       "      <th>5</th>\n",
       "      <td>-5.0</td>\n",
       "      <td>1.000000e-05</td>\n",
       "      <td>0.555390</td>\n",
       "    </tr>\n",
       "    <tr>\n",
       "      <th>6</th>\n",
       "      <td>-4.0</td>\n",
       "      <td>1.000000e-04</td>\n",
       "      <td>0.555390</td>\n",
       "    </tr>\n",
       "    <tr>\n",
       "      <th>7</th>\n",
       "      <td>-3.0</td>\n",
       "      <td>1.000000e-03</td>\n",
       "      <td>0.653910</td>\n",
       "    </tr>\n",
       "    <tr>\n",
       "      <th>8</th>\n",
       "      <td>-2.0</td>\n",
       "      <td>1.000000e-02</td>\n",
       "      <td>0.677451</td>\n",
       "    </tr>\n",
       "    <tr>\n",
       "      <th>9</th>\n",
       "      <td>-1.0</td>\n",
       "      <td>1.000000e-01</td>\n",
       "      <td>0.678618</td>\n",
       "    </tr>\n",
       "    <tr>\n",
       "      <th>10</th>\n",
       "      <td>0.0</td>\n",
       "      <td>1.000000e+00</td>\n",
       "      <td>0.678618</td>\n",
       "    </tr>\n",
       "    <tr>\n",
       "      <th>11</th>\n",
       "      <td>1.0</td>\n",
       "      <td>1.000000e+01</td>\n",
       "      <td>0.678618</td>\n",
       "    </tr>\n",
       "    <tr>\n",
       "      <th>12</th>\n",
       "      <td>2.0</td>\n",
       "      <td>1.000000e+02</td>\n",
       "      <td>0.678618</td>\n",
       "    </tr>\n",
       "    <tr>\n",
       "      <th>13</th>\n",
       "      <td>3.0</td>\n",
       "      <td>1.000000e+03</td>\n",
       "      <td>0.678618</td>\n",
       "    </tr>\n",
       "    <tr>\n",
       "      <th>14</th>\n",
       "      <td>4.0</td>\n",
       "      <td>1.000000e+04</td>\n",
       "      <td>0.678618</td>\n",
       "    </tr>\n",
       "    <tr>\n",
       "      <th>15</th>\n",
       "      <td>5.0</td>\n",
       "      <td>1.000000e+05</td>\n",
       "      <td>0.678618</td>\n",
       "    </tr>\n",
       "    <tr>\n",
       "      <th>16</th>\n",
       "      <td>6.0</td>\n",
       "      <td>1.000000e+06</td>\n",
       "      <td>0.678618</td>\n",
       "    </tr>\n",
       "    <tr>\n",
       "      <th>17</th>\n",
       "      <td>7.0</td>\n",
       "      <td>1.000000e+07</td>\n",
       "      <td>0.678618</td>\n",
       "    </tr>\n",
       "    <tr>\n",
       "      <th>18</th>\n",
       "      <td>8.0</td>\n",
       "      <td>1.000000e+08</td>\n",
       "      <td>0.678618</td>\n",
       "    </tr>\n",
       "    <tr>\n",
       "      <th>19</th>\n",
       "      <td>9.0</td>\n",
       "      <td>1.000000e+09</td>\n",
       "      <td>0.678618</td>\n",
       "    </tr>\n",
       "    <tr>\n",
       "      <th>20</th>\n",
       "      <td>10.0</td>\n",
       "      <td>1.000000e+10</td>\n",
       "      <td>0.678618</td>\n",
       "    </tr>\n",
       "  </tbody>\n",
       "</table>\n",
       "</div>"
      ],
      "text/plain": [
       "    index             c     Score\n",
       "0   -10.0  1.000000e-10  0.555390\n",
       "1    -9.0  1.000000e-09  0.555390\n",
       "2    -8.0  1.000000e-08  0.555390\n",
       "3    -7.0  1.000000e-07  0.555390\n",
       "4    -6.0  1.000000e-06  0.555390\n",
       "5    -5.0  1.000000e-05  0.555390\n",
       "6    -4.0  1.000000e-04  0.555390\n",
       "7    -3.0  1.000000e-03  0.653910\n",
       "8    -2.0  1.000000e-02  0.677451\n",
       "9    -1.0  1.000000e-01  0.678618\n",
       "10    0.0  1.000000e+00  0.678618\n",
       "11    1.0  1.000000e+01  0.678618\n",
       "12    2.0  1.000000e+02  0.678618\n",
       "13    3.0  1.000000e+03  0.678618\n",
       "14    4.0  1.000000e+04  0.678618\n",
       "15    5.0  1.000000e+05  0.678618\n",
       "16    6.0  1.000000e+06  0.678618\n",
       "17    7.0  1.000000e+07  0.678618\n",
       "18    8.0  1.000000e+08  0.678618\n",
       "19    9.0  1.000000e+09  0.678618\n",
       "20   10.0  1.000000e+10  0.678618"
      ]
     },
     "execution_count": 60,
     "metadata": {},
     "output_type": "execute_result"
    }
   ],
   "source": [
    "c_df"
   ]
  },
  {
   "cell_type": "code",
   "execution_count": 61,
   "metadata": {
    "collapsed": false
   },
   "outputs": [
    {
     "data": {
      "text/plain": [
       "<matplotlib.axes._subplots.AxesSubplot at 0x11b8e2c10>"
      ]
     },
     "execution_count": 61,
     "metadata": {},
     "output_type": "execute_result"
    },
    {
     "data": {
      "image/png": "[encoded data removed]",
      "text/plain": [
       "<matplotlib.figure.Figure at 0x11b1d1290>"
      ]
     },
     "metadata": {},
     "output_type": "display_data"
    }
   ],
   "source": [
    "c_df.set_index('index').Score.plot()"
   ]
  },
  {
   "cell_type": "code",
   "execution_count": 62,
   "metadata": {
    "collapsed": false
   },
   "outputs": [
    {
     "data": {
      "text/plain": [
       "<matplotlib.axes._subplots.AxesSubplot at 0x11be4f1d0>"
      ]
     },
     "execution_count": 62,
     "metadata": {},
     "output_type": "execute_result"
    },
    {
     "data": {
      "image/png": "[encoded data removed]",
      "text/plain": [
       "<matplotlib.figure.Figure at 0x11be727d0>"
      ]
     },
     "metadata": {},
     "output_type": "display_data"
    }
   ],
   "source": [
    "c_df = pd.DataFrame({'index': np.linspace(-4, -3, 31)})\n",
    "\n",
    "c_df['c'] = c_df['index'].apply(lambda index: 10 ** index)\n",
    "\n",
    "def optimize_c(c):\n",
    "    model = linear_model.LogisticRegression(C = c)\n",
    "    return cross_validation.cross_val_score(model, train_X, train_y, cv = 10).mean()\n",
    "\n",
    "c_df['Score'] = c_df.c.apply(optimize_c)\n",
    "\n",
    "c_df.set_index('index').Score.plot()"
   ]
  },
  {
   "cell_type": "code",
   "execution_count": 63,
   "metadata": {
    "collapsed": false
   },
   "outputs": [
    {
     "data": {
      "text/plain": [
       "LogisticRegression(C=0.001, class_weight=None, dual=False, fit_intercept=True,\n",
       "          intercept_scaling=1, max_iter=100, multi_class='ovr', n_jobs=1,\n",
       "          penalty='l2', random_state=None, solver='liblinear', tol=0.0001,\n",
       "          verbose=0, warm_start=False)"
      ]
     },
     "execution_count": 63,
     "metadata": {},
     "output_type": "execute_result"
    }
   ],
   "source": [
    "model = linear_model.LogisticRegression(C = 10 ** -3.0)\n",
    "model.fit(train_X, train_y)"
   ]
  },
  {
   "cell_type": "code",
   "execution_count": 64,
   "metadata": {
    "collapsed": false
   },
   "outputs": [
    {
     "data": {
      "text/plain": [
       "[(0.052394351245449888, 'seconds_from_period_end'),\n",
       " (0.02635484403667987, 'loc_x'),\n",
       " (-0.045419428339045553, 'loc_y'),\n",
       " (-0.06573315626416909, 'shot_distance'),\n",
       " (-0.41768927255254584, 'action_type#Jump Shot'),\n",
       " (0.041456045366914607, 'home_away'),\n",
       " (-0.1661307731475663, 'action_type#Layup Shot'),\n",
       " (0.0073511109579225131, 'period#3'),\n",
       " (-0.0044430923503947506, 'period#2'),\n",
       " (0.059011455434518467, 'period#1'),\n",
       " (-0.046312931237967647, 'period#4'),\n",
       " (0.20766266199690797, 'shot_zone_range#Less Than 8 ft.'),\n",
       " (0.018308204527486271, 'game_month#1'),\n",
       " (-0.0098172335872932504, 'game_month#3'),\n",
       " (0.0051011223461965294, 'game_month#2'),\n",
       " (0.0026826313362799947, 'game_month#12'),\n",
       " (0.0021979078197658097, 'game_month#4'),\n",
       " (-0.0057497210166578272, 'game_month#11'),\n",
       " (-0.003206155544266398, 'playoffs'),\n",
       " (0.089190194813539847, 'action_type#Running Jump Shot')]"
      ]
     },
     "execution_count": 64,
     "metadata": {},
     "output_type": "execute_result"
    }
   ],
   "source": [
    "zip(np.exp(model.coef_[0]) - 1, names_X)"
   ]
  },
  {
   "cell_type": "code",
   "execution_count": 67,
   "metadata": {
    "collapsed": false
   },
   "outputs": [
    {
     "data": {
      "image/png": "[encoded data removed]",
      "text/plain": [
       "<matplotlib.figure.Figure at 0x1185b96d0>"
      ]
     },
     "metadata": {},
     "output_type": "display_data"
    }
   ],
   "source": [
    "fpr, tpr, thresholds = metrics.roc_curve(test_y, y_pred)\n",
    "\n",
    "plt.figure()\n",
    "plt.plot(fpr, tpr, label = 'ROC curve (area = %0.2f)' % metrics.auc(fpr, tpr))\n",
    "plt.plot([0, 1], [0, 1], 'k--')\n",
    "plt.xlim([.0, 1.])\n",
    "plt.ylim([.0, 1.1])\n",
    "plt.xlabel('FPR/Fall-out')\n",
    "plt.ylabel('TPR/Sensitivity')\n",
    "plt.title(\"KOBE ROC\")\n",
    "plt.legend(loc = 'lower right')\n",
    "plt.show()"
   ]
  },
  {
   "cell_type": "code",
   "execution_count": 66,
   "metadata": {
    "collapsed": false
   },
   "outputs": [
    {
     "data": {
      "text/plain": [
       "0.66000616436233295"
      ]
     },
     "execution_count": 66,
     "metadata": {},
     "output_type": "execute_result"
    }
   ],
   "source": [
    "metrics.roc_auc_score(test_y, y_pred)"
   ]
  },
  {
   "cell_type": "code",
   "execution_count": null,
   "metadata": {
    "collapsed": true
   },
   "outputs": [],
   "source": []
  }
 ],
 "metadata": {
  "kernelspec": {
   "display_name": "Python 2",
   "language": "python",
   "name": "python2"
  },
  "language_info": {
   "codemirror_mode": {
    "name": "ipython",
    "version": 2
   },
   "file_extension": ".py",
   "mimetype": "text/x-python",
   "name": "python",
   "nbconvert_exporter": "python",
   "pygments_lexer": "ipython2",
   "version": "2.7.11"
  }
 },
 "nbformat": 4,
 "nbformat_minor": 0
}
