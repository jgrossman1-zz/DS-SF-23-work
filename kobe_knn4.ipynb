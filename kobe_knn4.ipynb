{
 "cells": [
  {
   "cell_type": "code",
   "execution_count": 162,
   "metadata": {
    "collapsed": true
   },
   "outputs": [],
   "source": [
    "import os\n",
    "import numpy as np\n",
    "import pandas as pd\n",
    "import csv\n",
    "import matplotlib.pyplot as plt\n",
    "import statsmodels.api as sm\n",
    "import statsmodels.formula.api as smf\n",
    "from sklearn import neighbors, metrics, grid_search, cross_validation\n",
    "\n",
    "pd.set_option('display.max_rows', 30)\n",
    "pd.set_option('display.notebook_repr_html', True)\n",
    "pd.set_option('display.max_columns', 30)\n",
    "\n",
    "%matplotlib inline\n",
    "plt.style.use('ggplot')"
   ]
  },
  {
   "cell_type": "code",
   "execution_count": 163,
   "metadata": {
    "collapsed": true
   },
   "outputs": [],
   "source": [
    "#df = pd.read_csv('/Users/joshuagrossman/Desktop/DS-SF-23 Final Project/Kobe/kobe_clean_forest.csv')\n",
    "df = pd.read_csv('/Users/joshuagrossman/DS-SF-23-work/kobe_clean_forest.csv')"
   ]
  },
  {
   "cell_type": "code",
   "execution_count": 164,
   "metadata": {
    "collapsed": false
   },
   "outputs": [
    {
     "data": {
      "text/html": [
       "<div>\n",
       "<table border=\"1\" class=\"dataframe\">\n",
       "  <thead>\n",
       "    <tr style=\"text-align: right;\">\n",
       "      <th></th>\n",
       "      <th>shot_id</th>\n",
       "      <th>shot_made_flag</th>\n",
       "      <th>seconds_from_period_end</th>\n",
       "      <th>loc_x</th>\n",
       "      <th>loc_y</th>\n",
       "      <th>shot_distance</th>\n",
       "      <th>action_type#Jump Shot</th>\n",
       "      <th>home_away</th>\n",
       "      <th>action_type#Layup Shot</th>\n",
       "      <th>period#3</th>\n",
       "      <th>period#2</th>\n",
       "      <th>period#1</th>\n",
       "      <th>period#4</th>\n",
       "      <th>shot_zone_range#Less Than 8 ft.</th>\n",
       "      <th>game_month#1</th>\n",
       "      <th>game_month#3</th>\n",
       "      <th>game_month#2</th>\n",
       "      <th>game_month#12</th>\n",
       "      <th>game_month#4</th>\n",
       "      <th>game_month#11</th>\n",
       "      <th>playoffs</th>\n",
       "      <th>action_type#Running Jump Shot</th>\n",
       "    </tr>\n",
       "  </thead>\n",
       "  <tbody>\n",
       "    <tr>\n",
       "      <th>0</th>\n",
       "      <td>1</td>\n",
       "      <td>NaN</td>\n",
       "      <td>0.878151</td>\n",
       "      <td>0.837349</td>\n",
       "      <td>0.138922</td>\n",
       "      <td>0.227848</td>\n",
       "      <td>1.0</td>\n",
       "      <td>0</td>\n",
       "      <td>0.0</td>\n",
       "      <td>0.0</td>\n",
       "      <td>0.0</td>\n",
       "      <td>1.0</td>\n",
       "      <td>0.0</td>\n",
       "      <td>0.0</td>\n",
       "      <td>0.0</td>\n",
       "      <td>0.0</td>\n",
       "      <td>0.0</td>\n",
       "      <td>0.0</td>\n",
       "      <td>0.0</td>\n",
       "      <td>0.0</td>\n",
       "      <td>0</td>\n",
       "      <td>0.0</td>\n",
       "    </tr>\n",
       "    <tr>\n",
       "      <th>1</th>\n",
       "      <td>2</td>\n",
       "      <td>0.0</td>\n",
       "      <td>0.871148</td>\n",
       "      <td>0.186747</td>\n",
       "      <td>0.052695</td>\n",
       "      <td>0.189873</td>\n",
       "      <td>1.0</td>\n",
       "      <td>0</td>\n",
       "      <td>0.0</td>\n",
       "      <td>0.0</td>\n",
       "      <td>0.0</td>\n",
       "      <td>1.0</td>\n",
       "      <td>0.0</td>\n",
       "      <td>0.0</td>\n",
       "      <td>0.0</td>\n",
       "      <td>0.0</td>\n",
       "      <td>0.0</td>\n",
       "      <td>0.0</td>\n",
       "      <td>0.0</td>\n",
       "      <td>0.0</td>\n",
       "      <td>0</td>\n",
       "      <td>0.0</td>\n",
       "    </tr>\n",
       "    <tr>\n",
       "      <th>2</th>\n",
       "      <td>3</td>\n",
       "      <td>1.0</td>\n",
       "      <td>0.651261</td>\n",
       "      <td>0.299197</td>\n",
       "      <td>0.214371</td>\n",
       "      <td>0.202532</td>\n",
       "      <td>1.0</td>\n",
       "      <td>0</td>\n",
       "      <td>0.0</td>\n",
       "      <td>0.0</td>\n",
       "      <td>0.0</td>\n",
       "      <td>1.0</td>\n",
       "      <td>0.0</td>\n",
       "      <td>0.0</td>\n",
       "      <td>0.0</td>\n",
       "      <td>0.0</td>\n",
       "      <td>0.0</td>\n",
       "      <td>0.0</td>\n",
       "      <td>0.0</td>\n",
       "      <td>0.0</td>\n",
       "      <td>0</td>\n",
       "      <td>0.0</td>\n",
       "    </tr>\n",
       "    <tr>\n",
       "      <th>3</th>\n",
       "      <td>4</td>\n",
       "      <td>0.0</td>\n",
       "      <td>0.577031</td>\n",
       "      <td>0.779116</td>\n",
       "      <td>0.262275</td>\n",
       "      <td>0.278481</td>\n",
       "      <td>1.0</td>\n",
       "      <td>0</td>\n",
       "      <td>0.0</td>\n",
       "      <td>0.0</td>\n",
       "      <td>0.0</td>\n",
       "      <td>1.0</td>\n",
       "      <td>0.0</td>\n",
       "      <td>0.0</td>\n",
       "      <td>0.0</td>\n",
       "      <td>0.0</td>\n",
       "      <td>0.0</td>\n",
       "      <td>0.0</td>\n",
       "      <td>0.0</td>\n",
       "      <td>0.0</td>\n",
       "      <td>0</td>\n",
       "      <td>0.0</td>\n",
       "    </tr>\n",
       "    <tr>\n",
       "      <th>4</th>\n",
       "      <td>5</td>\n",
       "      <td>1.0</td>\n",
       "      <td>0.530812</td>\n",
       "      <td>0.502008</td>\n",
       "      <td>0.052695</td>\n",
       "      <td>0.000000</td>\n",
       "      <td>0.0</td>\n",
       "      <td>0</td>\n",
       "      <td>0.0</td>\n",
       "      <td>0.0</td>\n",
       "      <td>1.0</td>\n",
       "      <td>0.0</td>\n",
       "      <td>0.0</td>\n",
       "      <td>1.0</td>\n",
       "      <td>0.0</td>\n",
       "      <td>0.0</td>\n",
       "      <td>0.0</td>\n",
       "      <td>0.0</td>\n",
       "      <td>0.0</td>\n",
       "      <td>0.0</td>\n",
       "      <td>0</td>\n",
       "      <td>0.0</td>\n",
       "    </tr>\n",
       "  </tbody>\n",
       "</table>\n",
       "</div>"
      ],
      "text/plain": [
       "   shot_id  shot_made_flag  seconds_from_period_end     loc_x     loc_y  \\\n",
       "0        1             NaN                 0.878151  0.837349  0.138922   \n",
       "1        2             0.0                 0.871148  0.186747  0.052695   \n",
       "2        3             1.0                 0.651261  0.299197  0.214371   \n",
       "3        4             0.0                 0.577031  0.779116  0.262275   \n",
       "4        5             1.0                 0.530812  0.502008  0.052695   \n",
       "\n",
       "   shot_distance  action_type#Jump Shot  home_away  action_type#Layup Shot  \\\n",
       "0       0.227848                    1.0          0                     0.0   \n",
       "1       0.189873                    1.0          0                     0.0   \n",
       "2       0.202532                    1.0          0                     0.0   \n",
       "3       0.278481                    1.0          0                     0.0   \n",
       "4       0.000000                    0.0          0                     0.0   \n",
       "\n",
       "   period#3  period#2  period#1  period#4  shot_zone_range#Less Than 8 ft.  \\\n",
       "0       0.0       0.0       1.0       0.0                              0.0   \n",
       "1       0.0       0.0       1.0       0.0                              0.0   \n",
       "2       0.0       0.0       1.0       0.0                              0.0   \n",
       "3       0.0       0.0       1.0       0.0                              0.0   \n",
       "4       0.0       1.0       0.0       0.0                              1.0   \n",
       "\n",
       "   game_month#1  game_month#3  game_month#2  game_month#12  game_month#4  \\\n",
       "0           0.0           0.0           0.0            0.0           0.0   \n",
       "1           0.0           0.0           0.0            0.0           0.0   \n",
       "2           0.0           0.0           0.0            0.0           0.0   \n",
       "3           0.0           0.0           0.0            0.0           0.0   \n",
       "4           0.0           0.0           0.0            0.0           0.0   \n",
       "\n",
       "   game_month#11  playoffs  action_type#Running Jump Shot  \n",
       "0            0.0         0                            0.0  \n",
       "1            0.0         0                            0.0  \n",
       "2            0.0         0                            0.0  \n",
       "3            0.0         0                            0.0  \n",
       "4            0.0         0                            0.0  "
      ]
     },
     "execution_count": 164,
     "metadata": {},
     "output_type": "execute_result"
    }
   ],
   "source": [
    "df.head()"
   ]
  },
  {
   "cell_type": "code",
   "execution_count": 165,
   "metadata": {
    "collapsed": false
   },
   "outputs": [
    {
     "data": {
      "text/plain": [
       "(30697, 22)"
      ]
     },
     "execution_count": 165,
     "metadata": {},
     "output_type": "execute_result"
    }
   ],
   "source": [
    "df.shape"
   ]
  },
  {
   "cell_type": "code",
   "execution_count": 166,
   "metadata": {
    "collapsed": false
   },
   "outputs": [
    {
     "data": {
      "text/plain": [
       "Index([u'shot_id', u'shot_made_flag', u'seconds_from_period_end', u'loc_x',\n",
       "       u'loc_y', u'shot_distance', u'action_type#Jump Shot', u'home_away',\n",
       "       u'action_type#Layup Shot', u'period#3', u'period#2', u'period#1',\n",
       "       u'period#4', u'shot_zone_range#Less Than 8 ft.', u'game_month#1',\n",
       "       u'game_month#3', u'game_month#2', u'game_month#12', u'game_month#4',\n",
       "       u'game_month#11', u'playoffs', u'action_type#Running Jump Shot'],\n",
       "      dtype='object')"
      ]
     },
     "execution_count": 166,
     "metadata": {},
     "output_type": "execute_result"
    }
   ],
   "source": [
    "df.columns"
   ]
  },
  {
   "cell_type": "code",
   "execution_count": 167,
   "metadata": {
    "collapsed": false
   },
   "outputs": [
    {
     "data": {
      "text/plain": [
       "shot_id                            30697\n",
       "shot_made_flag                     25697\n",
       "seconds_from_period_end            30697\n",
       "loc_x                              30697\n",
       "loc_y                              30697\n",
       "shot_distance                      30697\n",
       "action_type#Jump Shot              30697\n",
       "home_away                          30697\n",
       "action_type#Layup Shot             30697\n",
       "period#3                           30697\n",
       "period#2                           30697\n",
       "period#1                           30697\n",
       "period#4                           30697\n",
       "shot_zone_range#Less Than 8 ft.    30697\n",
       "game_month#1                       30697\n",
       "game_month#3                       30697\n",
       "game_month#2                       30697\n",
       "game_month#12                      30697\n",
       "game_month#4                       30697\n",
       "game_month#11                      30697\n",
       "playoffs                           30697\n",
       "action_type#Running Jump Shot      30697\n",
       "dtype: int64"
      ]
     },
     "execution_count": 167,
     "metadata": {},
     "output_type": "execute_result"
    }
   ],
   "source": [
    "df.count()"
   ]
  },
  {
   "cell_type": "code",
   "execution_count": 168,
   "metadata": {
    "collapsed": false
   },
   "outputs": [],
   "source": [
    "#Create a new df (df2) based on the blanks in the shot_made_flag\n",
    "#This ceates a new DF of all the records where shot_made_flag is not null\n",
    "df2 = df[df.shot_made_flag.notnull()]"
   ]
  },
  {
   "cell_type": "code",
   "execution_count": 169,
   "metadata": {
    "collapsed": false
   },
   "outputs": [
    {
     "data": {
      "text/plain": [
       "(25697, 22)"
      ]
     },
     "execution_count": 169,
     "metadata": {},
     "output_type": "execute_result"
    }
   ],
   "source": [
    "df2.shape"
   ]
  },
  {
   "cell_type": "code",
   "execution_count": 170,
   "metadata": {
    "collapsed": true
   },
   "outputs": [],
   "source": [
    "#You'll still need to reserve the 5,000 blank records for submitting to Kaggle\n",
    "df_testing = df[df.shot_made_flag.isnull()]"
   ]
  },
  {
   "cell_type": "code",
   "execution_count": 171,
   "metadata": {
    "collapsed": false
   },
   "outputs": [
    {
     "data": {
      "text/plain": [
       "(15418, 22)"
      ]
     },
     "execution_count": 171,
     "metadata": {},
     "output_type": "execute_result"
    }
   ],
   "source": [
    "#Splitting the dataset into train and test\n",
    "#60% of the dataset to train the model; the rest to test the model\n",
    "\n",
    "train_df = df2.sample(frac = .6, random_state = 0).sort_index()\n",
    "\n",
    "train_df.shape"
   ]
  },
  {
   "cell_type": "code",
   "execution_count": 172,
   "metadata": {
    "collapsed": false
   },
   "outputs": [
    {
     "data": {
      "text/plain": [
       "(10279, 22)"
      ]
     },
     "execution_count": 172,
     "metadata": {},
     "output_type": "execute_result"
    }
   ],
   "source": [
    "test_df = df2.drop(train_df.index)\n",
    "\n",
    "test_df.shape"
   ]
  },
  {
   "cell_type": "code",
   "execution_count": 173,
   "metadata": {
    "collapsed": false
   },
   "outputs": [
    {
     "name": "stdout",
     "output_type": "stream",
     "text": [
      "train =  0.952977039824\n",
      "test  =  0.543924506275\n"
     ]
    }
   ],
   "source": [
    "#Try a few different KNN models with different features based on the random forest features from the kobe-clean-dataset-v5\n",
    "#train_x = train_df[ ['shot_distance' ] ]\n",
    "#train_x = train_df[ ['seconds_from_period_end', 'loc_x', 'loc_y', 'shot_distance' ] ]\n",
    "train_X = train_df[ ['seconds_from_period_end', 'loc_x', 'loc_y' ] ]\n",
    "#train_X = train_df[ ['seconds_from_period_end', 'loc_y', 'shot_distance' ] ]\n",
    "train_y = train_df.shot_made_flag\n",
    "\n",
    "model = neighbors.KNeighborsClassifier(n_neighbors = 5, weights = 'distance')\n",
    "model.fit(train_X, train_y)\n",
    "print 'train = ', model.score(train_X, train_y)\n",
    "\n",
    "test_X = test_df[ ['seconds_from_period_end', 'loc_x', 'loc_y'] ]\n",
    "#test_X = train_df[ ['seconds_from_period_end', 'loc_y', 'shot_distance' ] ]\n",
    "test_y = test_df.shot_made_flag\n",
    "\n",
    "print 'test  = ', model.score(test_X, test_y)"
   ]
  },
  {
   "cell_type": "code",
   "execution_count": 174,
   "metadata": {
    "collapsed": true
   },
   "outputs": [],
   "source": [
    "#Validation & finding the best k\n",
    "#This can take a minute or two to run\n",
    "k = range(1, 160)\n",
    "\n",
    "score_df = pd.DataFrame({'k': k})\n",
    "\n",
    "models = score_df.\\\n",
    "    apply(lambda row: neighbors.KNeighborsClassifier(n_neighbors = row['k']).fit(train_X, train_y), axis = 1)\n",
    "\n",
    "score_df['TrainScore'] = models.apply(lambda model: model.score(train_X, train_y))\n",
    "score_df['TestScore'] = models.apply(lambda model: model.score(test_X, test_y))"
   ]
  },
  {
   "cell_type": "code",
   "execution_count": 175,
   "metadata": {
    "collapsed": false
   },
   "outputs": [
    {
     "data": {
      "text/html": [
       "<div>\n",
       "<table border=\"1\" class=\"dataframe\">\n",
       "  <thead>\n",
       "    <tr style=\"text-align: right;\">\n",
       "      <th></th>\n",
       "      <th>k</th>\n",
       "      <th>TrainScore</th>\n",
       "      <th>TestScore</th>\n",
       "    </tr>\n",
       "  </thead>\n",
       "  <tbody>\n",
       "    <tr>\n",
       "      <th>0</th>\n",
       "      <td>1</td>\n",
       "      <td>0.941951</td>\n",
       "      <td>0.524370</td>\n",
       "    </tr>\n",
       "    <tr>\n",
       "      <th>1</th>\n",
       "      <td>2</td>\n",
       "      <td>0.739720</td>\n",
       "      <td>0.558517</td>\n",
       "    </tr>\n",
       "    <tr>\n",
       "      <th>2</th>\n",
       "      <td>3</td>\n",
       "      <td>0.753794</td>\n",
       "      <td>0.546065</td>\n",
       "    </tr>\n",
       "    <tr>\n",
       "      <th>3</th>\n",
       "      <td>4</td>\n",
       "      <td>0.700415</td>\n",
       "      <td>0.562020</td>\n",
       "    </tr>\n",
       "    <tr>\n",
       "      <th>4</th>\n",
       "      <td>5</td>\n",
       "      <td>0.704436</td>\n",
       "      <td>0.554237</td>\n",
       "    </tr>\n",
       "    <tr>\n",
       "      <th>5</th>\n",
       "      <td>6</td>\n",
       "      <td>0.679660</td>\n",
       "      <td>0.563868</td>\n",
       "    </tr>\n",
       "    <tr>\n",
       "      <th>6</th>\n",
       "      <td>7</td>\n",
       "      <td>0.681736</td>\n",
       "      <td>0.559004</td>\n",
       "    </tr>\n",
       "    <tr>\n",
       "      <th>7</th>\n",
       "      <td>8</td>\n",
       "      <td>0.666364</td>\n",
       "      <td>0.572916</td>\n",
       "    </tr>\n",
       "    <tr>\n",
       "      <th>8</th>\n",
       "      <td>9</td>\n",
       "      <td>0.668375</td>\n",
       "      <td>0.564355</td>\n",
       "    </tr>\n",
       "    <tr>\n",
       "      <th>9</th>\n",
       "      <td>10</td>\n",
       "      <td>0.656700</td>\n",
       "      <td>0.572916</td>\n",
       "    </tr>\n",
       "    <tr>\n",
       "      <th>10</th>\n",
       "      <td>11</td>\n",
       "      <td>0.657738</td>\n",
       "      <td>0.571359</td>\n",
       "    </tr>\n",
       "    <tr>\n",
       "      <th>11</th>\n",
       "      <td>12</td>\n",
       "      <td>0.650798</td>\n",
       "      <td>0.575834</td>\n",
       "    </tr>\n",
       "    <tr>\n",
       "      <th>12</th>\n",
       "      <td>13</td>\n",
       "      <td>0.649890</td>\n",
       "      <td>0.576321</td>\n",
       "    </tr>\n",
       "    <tr>\n",
       "      <th>13</th>\n",
       "      <td>14</td>\n",
       "      <td>0.643858</td>\n",
       "      <td>0.583617</td>\n",
       "    </tr>\n",
       "    <tr>\n",
       "      <th>14</th>\n",
       "      <td>15</td>\n",
       "      <td>0.640745</td>\n",
       "      <td>0.576418</td>\n",
       "    </tr>\n",
       "    <tr>\n",
       "      <th>...</th>\n",
       "      <td>...</td>\n",
       "      <td>...</td>\n",
       "      <td>...</td>\n",
       "    </tr>\n",
       "    <tr>\n",
       "      <th>144</th>\n",
       "      <td>145</td>\n",
       "      <td>0.607407</td>\n",
       "      <td>0.609398</td>\n",
       "    </tr>\n",
       "    <tr>\n",
       "      <th>145</th>\n",
       "      <td>146</td>\n",
       "      <td>0.608056</td>\n",
       "      <td>0.609398</td>\n",
       "    </tr>\n",
       "    <tr>\n",
       "      <th>146</th>\n",
       "      <td>147</td>\n",
       "      <td>0.608574</td>\n",
       "      <td>0.609301</td>\n",
       "    </tr>\n",
       "    <tr>\n",
       "      <th>147</th>\n",
       "      <td>148</td>\n",
       "      <td>0.607926</td>\n",
       "      <td>0.608717</td>\n",
       "    </tr>\n",
       "    <tr>\n",
       "      <th>148</th>\n",
       "      <td>149</td>\n",
       "      <td>0.607666</td>\n",
       "      <td>0.608036</td>\n",
       "    </tr>\n",
       "    <tr>\n",
       "      <th>149</th>\n",
       "      <td>150</td>\n",
       "      <td>0.607537</td>\n",
       "      <td>0.608522</td>\n",
       "    </tr>\n",
       "    <tr>\n",
       "      <th>150</th>\n",
       "      <td>151</td>\n",
       "      <td>0.607666</td>\n",
       "      <td>0.608620</td>\n",
       "    </tr>\n",
       "    <tr>\n",
       "      <th>151</th>\n",
       "      <td>152</td>\n",
       "      <td>0.606953</td>\n",
       "      <td>0.608814</td>\n",
       "    </tr>\n",
       "    <tr>\n",
       "      <th>152</th>\n",
       "      <td>153</td>\n",
       "      <td>0.606629</td>\n",
       "      <td>0.607939</td>\n",
       "    </tr>\n",
       "    <tr>\n",
       "      <th>153</th>\n",
       "      <td>154</td>\n",
       "      <td>0.605915</td>\n",
       "      <td>0.609009</td>\n",
       "    </tr>\n",
       "    <tr>\n",
       "      <th>154</th>\n",
       "      <td>155</td>\n",
       "      <td>0.606499</td>\n",
       "      <td>0.609009</td>\n",
       "    </tr>\n",
       "    <tr>\n",
       "      <th>155</th>\n",
       "      <td>156</td>\n",
       "      <td>0.606369</td>\n",
       "      <td>0.608620</td>\n",
       "    </tr>\n",
       "    <tr>\n",
       "      <th>156</th>\n",
       "      <td>157</td>\n",
       "      <td>0.606045</td>\n",
       "      <td>0.608717</td>\n",
       "    </tr>\n",
       "    <tr>\n",
       "      <th>157</th>\n",
       "      <td>158</td>\n",
       "      <td>0.606304</td>\n",
       "      <td>0.608328</td>\n",
       "    </tr>\n",
       "    <tr>\n",
       "      <th>158</th>\n",
       "      <td>159</td>\n",
       "      <td>0.607147</td>\n",
       "      <td>0.607647</td>\n",
       "    </tr>\n",
       "  </tbody>\n",
       "</table>\n",
       "<p>159 rows × 3 columns</p>\n",
       "</div>"
      ],
      "text/plain": [
       "       k  TrainScore  TestScore\n",
       "0      1    0.941951   0.524370\n",
       "1      2    0.739720   0.558517\n",
       "2      3    0.753794   0.546065\n",
       "3      4    0.700415   0.562020\n",
       "4      5    0.704436   0.554237\n",
       "5      6    0.679660   0.563868\n",
       "6      7    0.681736   0.559004\n",
       "7      8    0.666364   0.572916\n",
       "8      9    0.668375   0.564355\n",
       "9     10    0.656700   0.572916\n",
       "10    11    0.657738   0.571359\n",
       "11    12    0.650798   0.575834\n",
       "12    13    0.649890   0.576321\n",
       "13    14    0.643858   0.583617\n",
       "14    15    0.640745   0.576418\n",
       "..   ...         ...        ...\n",
       "144  145    0.607407   0.609398\n",
       "145  146    0.608056   0.609398\n",
       "146  147    0.608574   0.609301\n",
       "147  148    0.607926   0.608717\n",
       "148  149    0.607666   0.608036\n",
       "149  150    0.607537   0.608522\n",
       "150  151    0.607666   0.608620\n",
       "151  152    0.606953   0.608814\n",
       "152  153    0.606629   0.607939\n",
       "153  154    0.605915   0.609009\n",
       "154  155    0.606499   0.609009\n",
       "155  156    0.606369   0.608620\n",
       "156  157    0.606045   0.608717\n",
       "157  158    0.606304   0.608328\n",
       "158  159    0.607147   0.607647\n",
       "\n",
       "[159 rows x 3 columns]"
      ]
     },
     "execution_count": 175,
     "metadata": {},
     "output_type": "execute_result"
    }
   ],
   "source": [
    "score_df"
   ]
  },
  {
   "cell_type": "code",
   "execution_count": 176,
   "metadata": {
    "collapsed": false
   },
   "outputs": [
    {
     "data": {
      "text/plain": [
       "<matplotlib.axes._subplots.AxesSubplot at 0x12040e290>"
      ]
     },
     "execution_count": 176,
     "metadata": {},
     "output_type": "execute_result"
    },
    {
     "data": {
      "image/png": "[encoded data removed]",
      "text/plain": [
       "<matplotlib.figure.Figure at 0x1211f9fd0>"
      ]
     },
     "metadata": {},
     "output_type": "display_data"
    }
   ],
   "source": [
    "score_df.set_index('k').plot()"
   ]
  },
  {
   "cell_type": "code",
   "execution_count": 177,
   "metadata": {
    "collapsed": false
   },
   "outputs": [],
   "source": [
    "#Cross-Validation\n",
    "#10-fold cross-validation to choose the most efficient k\n",
    "#This can take a minute or two to run\n",
    "\n",
    "k_cv = 10 # 10-fold CV\n",
    "sq_len = 160\n",
    "k_nn = range(1, sq_len * (k_cv - 1) / k_cv) # k-NN\n",
    "\n",
    "gs = grid_search.GridSearchCV(\n",
    "    estimator = neighbors.KNeighborsClassifier(),\n",
    "    param_grid = {'n_neighbors': k_nn},\n",
    "    cv = cross_validation.KFold(sq_len, n_folds = k_cv)\n",
    ")\n",
    "\n",
    "gs.fit(X, y)\n",
    "\n",
    "score_df = pd.DataFrame({'k': [score.parameters['n_neighbors'] for score in gs.grid_scores_],\n",
    "    'Score': [score.mean_validation_score for score in gs.grid_scores_]})\n",
    "\n",
    "#tip: try using the sqrt of the number k = sqrt of len(df)"
   ]
  },
  {
   "cell_type": "code",
   "execution_count": 178,
   "metadata": {
    "collapsed": false
   },
   "outputs": [
    {
     "data": {
      "text/plain": [
       "[<matplotlib.lines.Line2D at 0x124195d90>]"
      ]
     },
     "execution_count": 178,
     "metadata": {},
     "output_type": "execute_result"
    },
    {
     "data": {
      "image/png": "[encoded data removed]",
      "text/plain": [
       "<matplotlib.figure.Figure at 0x1211d5610>"
      ]
     },
     "metadata": {},
     "output_type": "display_data"
    }
   ],
   "source": [
    "plt.plot(score_df.k, score_df.Score)"
   ]
  },
  {
   "cell_type": "code",
   "execution_count": 179,
   "metadata": {
    "collapsed": false,
    "scrolled": true
   },
   "outputs": [
    {
     "data": {
      "text/html": [
       "<div>\n",
       "<table border=\"1\" class=\"dataframe\">\n",
       "  <thead>\n",
       "    <tr style=\"text-align: right;\">\n",
       "      <th></th>\n",
       "      <th>Score</th>\n",
       "      <th>k</th>\n",
       "    </tr>\n",
       "  </thead>\n",
       "  <tbody>\n",
       "    <tr>\n",
       "      <th>1</th>\n",
       "      <td>0.58125</td>\n",
       "      <td>2</td>\n",
       "    </tr>\n",
       "  </tbody>\n",
       "</table>\n",
       "</div>"
      ],
      "text/plain": [
       "     Score  k\n",
       "1  0.58125  2"
      ]
     },
     "execution_count": 179,
     "metadata": {},
     "output_type": "execute_result"
    }
   ],
   "source": [
    "#Finding the most effecient k\n",
    "score_df[score_df.Score == score_df.Score.max()]"
   ]
  },
  {
   "cell_type": "code",
   "execution_count": 180,
   "metadata": {
    "collapsed": false
   },
   "outputs": [
    {
     "data": {
      "text/plain": [
       "0.72516781788111684"
      ]
     },
     "execution_count": 180,
     "metadata": {},
     "output_type": "execute_result"
    }
   ],
   "source": [
    "#Grid search score\n",
    "gs.score(test_X, test_y)"
   ]
  },
  {
   "cell_type": "code",
   "execution_count": null,
   "metadata": {
    "collapsed": true
   },
   "outputs": [],
   "source": []
  }
 ],
 "metadata": {
  "kernelspec": {
   "display_name": "Python 2",
   "language": "python",
   "name": "python2"
  },
  "language_info": {
   "codemirror_mode": {
    "name": "ipython",
    "version": 2
   },
   "file_extension": ".py",
   "mimetype": "text/x-python",
   "name": "python",
   "nbconvert_exporter": "python",
   "pygments_lexer": "ipython2",
   "version": "2.7.11"
  }
 },
 "nbformat": 4,
 "nbformat_minor": 0
}
